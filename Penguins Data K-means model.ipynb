{
 "cells": [
  {
   "cell_type": "markdown",
   "id": "7142a92b",
   "metadata": {
    "id": "700acefd-8120-42a9-a650-c610467e2a4c"
   },
   "source": [
    "# Build a K-means model \n",
    "\n",
    "## **Introduction**\n",
    "\n",
    "K-means clustering is very effective when segmenting data and attempting to find patterns. Because clustering is used in a broad array of industries, becoming proficient in this process will help you expand your skillset in a widely applicable way.   \n",
    "\n",
    "In this activity, you are a consultant for a scientific organization that works to support and sustain penguin colonies. You are tasked with helping other staff members learn more about penguins in order to achieve this mission. \n",
    "\n",
    "The data for this activity is in a spreadsheet that includes datapoints across a sample size of 345 penguins, such as species, island, and sex. Your will use a K-means clustering model to group this data and identify patterns that provide important insights about penguins.\n",
    "\n",
    "**Note:** Because this lab uses a real dataset, this notebook will first require basic EDA, data cleaning, and other manipulations to prepare the data for modeling. "
   ]
  },
  {
   "cell_type": "markdown",
   "id": "4aada671",
   "metadata": {
    "id": "b42252b9-b980-4ee0-8cfd-82f4239b6d1a"
   },
   "source": [
    "## **Step 1: Imports** \n"
   ]
  },
  {
   "cell_type": "markdown",
   "id": "fd1be05b",
   "metadata": {
    "id": "oz38PANKW0ys"
   },
   "source": [
    "Import statements including `K-means`, `silhouette_score`, and `StandardScaler`."
   ]
  },
  {
   "cell_type": "code",
   "execution_count": 1,
   "id": "d41de4e6",
   "metadata": {
    "id": "aacf7b0d-d652-46c4-a9fc-f1ff377bdd0c"
   },
   "outputs": [],
   "source": [
    "# Import standard operational packages.\n",
    "import numpy as np\n",
    "import pandas as pd\n",
    "\n",
    "# Important tools for modeling and evaluation.\n",
    "from sklearn.cluster import KMeans\n",
    "from sklearn.metrics import silhouette_score\n",
    "from sklearn.preprocessing import StandardScaler\n",
    "\n",
    "# Import visualization packages.\n",
    "import matplotlib.pyplot as plt\n",
    "import seaborn as sns\n"
   ]
  },
  {
   "cell_type": "markdown",
   "id": "217ea51b",
   "metadata": {
    "id": "a60990fd-4723-4a2b-a0db-9dfa6c7c881c"
   },
   "source": [
    "`Pandas` is used to load the penguins dataset, which is built into the `seaborn` library. The resulting `pandas` DataFrame is saved in a variable named `penguins`. As shown in this cell, the dataset has been automatically loaded in for you. You do not need to download the .csv file, or provide more code, in order to access the dataset and proceed with this lab. Please continue with this activity by completing the following instructions."
   ]
  },
  {
   "cell_type": "code",
   "execution_count": 3,
   "id": "e72538b4",
   "metadata": {
    "id": "80535d2f-8b1a-4715-b07a-f3734d8cc4c5"
   },
   "outputs": [],
   "source": [
    "# RUN THIS CELL TO IMPORT YOUR DATA. \n",
    "\n",
    "# Save the `pandas` DataFrame in variable `penguins`. \n",
    "\n",
    "### YOUR CODE HERE ###\n",
    "\n",
    "penguins = pd.read_csv(\"datasets/penguins.csv\")"
   ]
  },
  {
   "cell_type": "markdown",
   "id": "196aa80a",
   "metadata": {
    "id": "46448192-f2f8-4f78-9f76-6e4bb699da7b"
   },
   "source": [
    "Now, review the first 10 rows of data.\n"
   ]
  },
  {
   "cell_type": "code",
   "execution_count": 4,
   "id": "a0840081",
   "metadata": {
    "id": "U8JZjN-zJwx6"
   },
   "outputs": [
    {
     "data": {
      "text/html": [
       "<div>\n",
       "<style scoped>\n",
       "    .dataframe tbody tr th:only-of-type {\n",
       "        vertical-align: middle;\n",
       "    }\n",
       "\n",
       "    .dataframe tbody tr th {\n",
       "        vertical-align: top;\n",
       "    }\n",
       "\n",
       "    .dataframe thead th {\n",
       "        text-align: right;\n",
       "    }\n",
       "</style>\n",
       "<table border=\"1\" class=\"dataframe\">\n",
       "  <thead>\n",
       "    <tr style=\"text-align: right;\">\n",
       "      <th></th>\n",
       "      <th>species</th>\n",
       "      <th>island</th>\n",
       "      <th>bill_length_mm</th>\n",
       "      <th>bill_depth_mm</th>\n",
       "      <th>flipper_length_mm</th>\n",
       "      <th>body_mass_g</th>\n",
       "      <th>sex</th>\n",
       "    </tr>\n",
       "  </thead>\n",
       "  <tbody>\n",
       "    <tr>\n",
       "      <th>0</th>\n",
       "      <td>Adelie</td>\n",
       "      <td>Torgersen</td>\n",
       "      <td>39.1</td>\n",
       "      <td>18.7</td>\n",
       "      <td>181.0</td>\n",
       "      <td>3750.0</td>\n",
       "      <td>male</td>\n",
       "    </tr>\n",
       "    <tr>\n",
       "      <th>1</th>\n",
       "      <td>Adelie</td>\n",
       "      <td>Torgersen</td>\n",
       "      <td>39.5</td>\n",
       "      <td>17.4</td>\n",
       "      <td>186.0</td>\n",
       "      <td>3800.0</td>\n",
       "      <td>female</td>\n",
       "    </tr>\n",
       "    <tr>\n",
       "      <th>2</th>\n",
       "      <td>Adelie</td>\n",
       "      <td>Torgersen</td>\n",
       "      <td>40.3</td>\n",
       "      <td>18.0</td>\n",
       "      <td>195.0</td>\n",
       "      <td>3250.0</td>\n",
       "      <td>female</td>\n",
       "    </tr>\n",
       "    <tr>\n",
       "      <th>3</th>\n",
       "      <td>Adelie</td>\n",
       "      <td>Torgersen</td>\n",
       "      <td>NaN</td>\n",
       "      <td>NaN</td>\n",
       "      <td>NaN</td>\n",
       "      <td>NaN</td>\n",
       "      <td>NaN</td>\n",
       "    </tr>\n",
       "    <tr>\n",
       "      <th>4</th>\n",
       "      <td>Adelie</td>\n",
       "      <td>Torgersen</td>\n",
       "      <td>36.7</td>\n",
       "      <td>19.3</td>\n",
       "      <td>193.0</td>\n",
       "      <td>3450.0</td>\n",
       "      <td>female</td>\n",
       "    </tr>\n",
       "    <tr>\n",
       "      <th>5</th>\n",
       "      <td>Adelie</td>\n",
       "      <td>Torgersen</td>\n",
       "      <td>39.3</td>\n",
       "      <td>20.6</td>\n",
       "      <td>190.0</td>\n",
       "      <td>3650.0</td>\n",
       "      <td>male</td>\n",
       "    </tr>\n",
       "    <tr>\n",
       "      <th>6</th>\n",
       "      <td>Adelie</td>\n",
       "      <td>Torgersen</td>\n",
       "      <td>38.9</td>\n",
       "      <td>17.8</td>\n",
       "      <td>181.0</td>\n",
       "      <td>3625.0</td>\n",
       "      <td>female</td>\n",
       "    </tr>\n",
       "    <tr>\n",
       "      <th>7</th>\n",
       "      <td>Adelie</td>\n",
       "      <td>Torgersen</td>\n",
       "      <td>39.2</td>\n",
       "      <td>19.6</td>\n",
       "      <td>195.0</td>\n",
       "      <td>4675.0</td>\n",
       "      <td>male</td>\n",
       "    </tr>\n",
       "    <tr>\n",
       "      <th>8</th>\n",
       "      <td>Adelie</td>\n",
       "      <td>Torgersen</td>\n",
       "      <td>34.1</td>\n",
       "      <td>18.1</td>\n",
       "      <td>193.0</td>\n",
       "      <td>3475.0</td>\n",
       "      <td>NaN</td>\n",
       "    </tr>\n",
       "    <tr>\n",
       "      <th>9</th>\n",
       "      <td>Adelie</td>\n",
       "      <td>Torgersen</td>\n",
       "      <td>42.0</td>\n",
       "      <td>20.2</td>\n",
       "      <td>190.0</td>\n",
       "      <td>4250.0</td>\n",
       "      <td>NaN</td>\n",
       "    </tr>\n",
       "  </tbody>\n",
       "</table>\n",
       "</div>"
      ],
      "text/plain": [
       "  species     island  bill_length_mm  bill_depth_mm  flipper_length_mm  \\\n",
       "0  Adelie  Torgersen            39.1           18.7              181.0   \n",
       "1  Adelie  Torgersen            39.5           17.4              186.0   \n",
       "2  Adelie  Torgersen            40.3           18.0              195.0   \n",
       "3  Adelie  Torgersen             NaN            NaN                NaN   \n",
       "4  Adelie  Torgersen            36.7           19.3              193.0   \n",
       "5  Adelie  Torgersen            39.3           20.6              190.0   \n",
       "6  Adelie  Torgersen            38.9           17.8              181.0   \n",
       "7  Adelie  Torgersen            39.2           19.6              195.0   \n",
       "8  Adelie  Torgersen            34.1           18.1              193.0   \n",
       "9  Adelie  Torgersen            42.0           20.2              190.0   \n",
       "\n",
       "   body_mass_g     sex  \n",
       "0       3750.0    male  \n",
       "1       3800.0  female  \n",
       "2       3250.0  female  \n",
       "3          NaN     NaN  \n",
       "4       3450.0  female  \n",
       "5       3650.0    male  \n",
       "6       3625.0  female  \n",
       "7       4675.0    male  \n",
       "8       3475.0     NaN  \n",
       "9       4250.0     NaN  "
      ]
     },
     "execution_count": 4,
     "metadata": {},
     "output_type": "execute_result"
    }
   ],
   "source": [
    "# Review the first 10 rows.\n",
    "\n",
    "penguins.head(10)"
   ]
  },
  {
   "cell_type": "markdown",
   "id": "26d25dee",
   "metadata": {
    "id": "ec269f85-6622-4f82-bdcd-1874224a4052",
    "tags": []
   },
   "source": [
    "## **Step 2: Data exploration** \n",
    "\n",
    "After loading the dataset, the next step is to prepare the data to be suitable for clustering. This includes: \n",
    "\n",
    "*   Exploring data\n",
    "*   Checking for missing values\n",
    "*   Encoding data \n",
    "*   Dropping a column\n",
    "*   Scaling the features using `StandardScaler`"
   ]
  },
  {
   "cell_type": "markdown",
   "id": "bd5efe6f",
   "metadata": {
    "id": "d7ccd368"
   },
   "source": [
    "### Explore data\n",
    "\n",
    "To cluster penguins of multiple different species, determine how many different types of penguin species are in the dataset."
   ]
  },
  {
   "cell_type": "code",
   "execution_count": 6,
   "id": "6184bea4",
   "metadata": {
    "id": "8098d8a3"
   },
   "outputs": [
    {
     "data": {
      "text/plain": [
       "array(['Adelie', 'Chinstrap', 'Gentoo'], dtype=object)"
      ]
     },
     "execution_count": 6,
     "metadata": {},
     "output_type": "execute_result"
    }
   ],
   "source": [
    "# Find out how many penguin types there are.\n",
    "\n",
    "penguins[\"species\"].unique()"
   ]
  },
  {
   "cell_type": "code",
   "execution_count": 7,
   "id": "0cd2719e",
   "metadata": {
    "id": "1730341a"
   },
   "outputs": [
    {
     "data": {
      "text/plain": [
       "species\n",
       "Adelie       152\n",
       "Gentoo       124\n",
       "Chinstrap     68\n",
       "Name: count, dtype: int64"
      ]
     },
     "execution_count": 7,
     "metadata": {},
     "output_type": "execute_result"
    }
   ],
   "source": [
    "# Find the count of each species type.\n",
    "\n",
    "penguins[\"species\"].value_counts()"
   ]
  },
  {
   "cell_type": "markdown",
   "id": "41bbeb83",
   "metadata": {
    "id": "a2ae00e8"
   },
   "source": [
    "**Question:** How many types of species are present in the dataset?"
   ]
  },
  {
   "cell_type": "markdown",
   "id": "1bea7483",
   "metadata": {
    "id": "yP0PPSd9dwIy"
   },
   "source": [
    "There are 3 types of species, Adelie - 152 penguins, Gentoo - 124 penguins and Chinstrap - 68 penguins. Note the Chinstrap species is less common than the other species. This has a chance to affect K-means clustering as K-means performs best with similar sized groupings."
   ]
  },
  {
   "cell_type": "markdown",
   "id": "8c7c1083",
   "metadata": {
    "id": "1f175bc9"
   },
   "source": [
    "**Question:** Why is it helpful to determine the perfect number of clusters using K-means when you already know how many penguin species the dataset contains?"
   ]
  },
  {
   "cell_type": "markdown",
   "id": "013f71f0",
   "metadata": {
    "id": "yP0PPSd9dwIy"
   },
   "source": [
    "For purposes of clustering, pretend you don't know that there are three different types of species. Then, you can explore whether the algorithm can discover the different species. You might even find other relationships in the data."
   ]
  },
  {
   "cell_type": "markdown",
   "id": "ecb3dece",
   "metadata": {
    "id": "4222ca54"
   },
   "source": [
    "### Check for missing values"
   ]
  },
  {
   "cell_type": "markdown",
   "id": "f6850426",
   "metadata": {
    "id": "TgANHJBVxpbI"
   },
   "source": [
    "An assumption of K-means is that there are no missing values. Check for missing values in the rows of the data. "
   ]
  },
  {
   "cell_type": "code",
   "execution_count": 8,
   "id": "a607c249",
   "metadata": {
    "id": "3_SVlY1VpY4h"
   },
   "outputs": [
    {
     "data": {
      "text/plain": [
       "species               0\n",
       "island                0\n",
       "bill_length_mm        2\n",
       "bill_depth_mm         2\n",
       "flipper_length_mm     2\n",
       "body_mass_g           2\n",
       "sex                  11\n",
       "dtype: int64"
      ]
     },
     "execution_count": 8,
     "metadata": {},
     "output_type": "execute_result"
    }
   ],
   "source": [
    "# Check for missing values.\n",
    "\n",
    "penguins.isnull().sum()"
   ]
  },
  {
   "cell_type": "markdown",
   "id": "6d7da05e",
   "metadata": {
    "id": "eb005a73-4621-45b9-8114-30472ce20327"
   },
   "source": [
    "Now, drop the rows with missing values and save the resulting pandas DataFrame in a variable named `penguins_subset`."
   ]
  },
  {
   "cell_type": "code",
   "execution_count": 9,
   "id": "1874398a",
   "metadata": {
    "id": "1cee438e-8b1f-4855-855e-3723d1958b69"
   },
   "outputs": [],
   "source": [
    "# Drop rows with missing values.\n",
    "# Save DataFrame in variable `penguins_subset`.\n",
    "\n",
    "penguins_subset = penguins.dropna()"
   ]
  },
  {
   "cell_type": "markdown",
   "id": "20502818",
   "metadata": {
    "id": "374b2b21"
   },
   "source": [
    "<details>\n",
    "  <summary><h4><strong>Hint 1</strong></h4></summary>\n",
    "\n",
    "Use `dropna`. Note that an axis parameter passed in to this function should be set to 0 if you want to drop rows containing missing values or 1 if you want to drop columns containing missing values. Optionally, `reset_index` may also be used to avoid a SettingWithCopy warning later in the notebook. \n",
    "</details>"
   ]
  },
  {
   "cell_type": "markdown",
   "id": "9053ee64",
   "metadata": {
    "id": "ymfmX-WvW31z"
   },
   "source": [
    "Next, check to make sure that `penguins_subset` does not contain any missing values."
   ]
  },
  {
   "cell_type": "code",
   "execution_count": 10,
   "id": "2de965f0",
   "metadata": {
    "id": "n36d4yztW4BA"
   },
   "outputs": [
    {
     "data": {
      "text/plain": [
       "species              0\n",
       "island               0\n",
       "bill_length_mm       0\n",
       "bill_depth_mm        0\n",
       "flipper_length_mm    0\n",
       "body_mass_g          0\n",
       "sex                  0\n",
       "dtype: int64"
      ]
     },
     "execution_count": 10,
     "metadata": {},
     "output_type": "execute_result"
    }
   ],
   "source": [
    "# Check for missing values.\n",
    "\n",
    "penguins_subset.isnull().sum()"
   ]
  },
  {
   "cell_type": "markdown",
   "id": "cd0e529d",
   "metadata": {
    "id": "0021b18e-4c93-4628-8d0d-2c55a98cc691"
   },
   "source": [
    "Now, review the first 10 rows of the subset."
   ]
  },
  {
   "cell_type": "code",
   "execution_count": 11,
   "id": "b74f1536",
   "metadata": {
    "id": "a58b4d77-6023-428d-89aa-4d2ac52003dc"
   },
   "outputs": [
    {
     "data": {
      "text/html": [
       "<div>\n",
       "<style scoped>\n",
       "    .dataframe tbody tr th:only-of-type {\n",
       "        vertical-align: middle;\n",
       "    }\n",
       "\n",
       "    .dataframe tbody tr th {\n",
       "        vertical-align: top;\n",
       "    }\n",
       "\n",
       "    .dataframe thead th {\n",
       "        text-align: right;\n",
       "    }\n",
       "</style>\n",
       "<table border=\"1\" class=\"dataframe\">\n",
       "  <thead>\n",
       "    <tr style=\"text-align: right;\">\n",
       "      <th></th>\n",
       "      <th>species</th>\n",
       "      <th>island</th>\n",
       "      <th>bill_length_mm</th>\n",
       "      <th>bill_depth_mm</th>\n",
       "      <th>flipper_length_mm</th>\n",
       "      <th>body_mass_g</th>\n",
       "      <th>sex</th>\n",
       "    </tr>\n",
       "  </thead>\n",
       "  <tbody>\n",
       "    <tr>\n",
       "      <th>0</th>\n",
       "      <td>Adelie</td>\n",
       "      <td>Torgersen</td>\n",
       "      <td>39.1</td>\n",
       "      <td>18.7</td>\n",
       "      <td>181.0</td>\n",
       "      <td>3750.0</td>\n",
       "      <td>male</td>\n",
       "    </tr>\n",
       "    <tr>\n",
       "      <th>1</th>\n",
       "      <td>Adelie</td>\n",
       "      <td>Torgersen</td>\n",
       "      <td>39.5</td>\n",
       "      <td>17.4</td>\n",
       "      <td>186.0</td>\n",
       "      <td>3800.0</td>\n",
       "      <td>female</td>\n",
       "    </tr>\n",
       "    <tr>\n",
       "      <th>2</th>\n",
       "      <td>Adelie</td>\n",
       "      <td>Torgersen</td>\n",
       "      <td>40.3</td>\n",
       "      <td>18.0</td>\n",
       "      <td>195.0</td>\n",
       "      <td>3250.0</td>\n",
       "      <td>female</td>\n",
       "    </tr>\n",
       "    <tr>\n",
       "      <th>4</th>\n",
       "      <td>Adelie</td>\n",
       "      <td>Torgersen</td>\n",
       "      <td>36.7</td>\n",
       "      <td>19.3</td>\n",
       "      <td>193.0</td>\n",
       "      <td>3450.0</td>\n",
       "      <td>female</td>\n",
       "    </tr>\n",
       "    <tr>\n",
       "      <th>5</th>\n",
       "      <td>Adelie</td>\n",
       "      <td>Torgersen</td>\n",
       "      <td>39.3</td>\n",
       "      <td>20.6</td>\n",
       "      <td>190.0</td>\n",
       "      <td>3650.0</td>\n",
       "      <td>male</td>\n",
       "    </tr>\n",
       "    <tr>\n",
       "      <th>6</th>\n",
       "      <td>Adelie</td>\n",
       "      <td>Torgersen</td>\n",
       "      <td>38.9</td>\n",
       "      <td>17.8</td>\n",
       "      <td>181.0</td>\n",
       "      <td>3625.0</td>\n",
       "      <td>female</td>\n",
       "    </tr>\n",
       "    <tr>\n",
       "      <th>7</th>\n",
       "      <td>Adelie</td>\n",
       "      <td>Torgersen</td>\n",
       "      <td>39.2</td>\n",
       "      <td>19.6</td>\n",
       "      <td>195.0</td>\n",
       "      <td>4675.0</td>\n",
       "      <td>male</td>\n",
       "    </tr>\n",
       "    <tr>\n",
       "      <th>12</th>\n",
       "      <td>Adelie</td>\n",
       "      <td>Torgersen</td>\n",
       "      <td>41.1</td>\n",
       "      <td>17.6</td>\n",
       "      <td>182.0</td>\n",
       "      <td>3200.0</td>\n",
       "      <td>female</td>\n",
       "    </tr>\n",
       "    <tr>\n",
       "      <th>13</th>\n",
       "      <td>Adelie</td>\n",
       "      <td>Torgersen</td>\n",
       "      <td>38.6</td>\n",
       "      <td>21.2</td>\n",
       "      <td>191.0</td>\n",
       "      <td>3800.0</td>\n",
       "      <td>male</td>\n",
       "    </tr>\n",
       "    <tr>\n",
       "      <th>14</th>\n",
       "      <td>Adelie</td>\n",
       "      <td>Torgersen</td>\n",
       "      <td>34.6</td>\n",
       "      <td>21.1</td>\n",
       "      <td>198.0</td>\n",
       "      <td>4400.0</td>\n",
       "      <td>male</td>\n",
       "    </tr>\n",
       "  </tbody>\n",
       "</table>\n",
       "</div>"
      ],
      "text/plain": [
       "   species     island  bill_length_mm  bill_depth_mm  flipper_length_mm  \\\n",
       "0   Adelie  Torgersen            39.1           18.7              181.0   \n",
       "1   Adelie  Torgersen            39.5           17.4              186.0   \n",
       "2   Adelie  Torgersen            40.3           18.0              195.0   \n",
       "4   Adelie  Torgersen            36.7           19.3              193.0   \n",
       "5   Adelie  Torgersen            39.3           20.6              190.0   \n",
       "6   Adelie  Torgersen            38.9           17.8              181.0   \n",
       "7   Adelie  Torgersen            39.2           19.6              195.0   \n",
       "12  Adelie  Torgersen            41.1           17.6              182.0   \n",
       "13  Adelie  Torgersen            38.6           21.2              191.0   \n",
       "14  Adelie  Torgersen            34.6           21.1              198.0   \n",
       "\n",
       "    body_mass_g     sex  \n",
       "0        3750.0    male  \n",
       "1        3800.0  female  \n",
       "2        3250.0  female  \n",
       "4        3450.0  female  \n",
       "5        3650.0    male  \n",
       "6        3625.0  female  \n",
       "7        4675.0    male  \n",
       "12       3200.0  female  \n",
       "13       3800.0    male  \n",
       "14       4400.0    male  "
      ]
     },
     "execution_count": 11,
     "metadata": {},
     "output_type": "execute_result"
    }
   ],
   "source": [
    "# View first 10 rows.\n",
    "\n",
    "penguins_subset.head(10)"
   ]
  },
  {
   "cell_type": "markdown",
   "id": "915922d2",
   "metadata": {
    "id": "d491a508"
   },
   "source": [
    "### Encode data\n",
    "\n",
    "Some versions of the penguins dataset have values encoded in the sex column as 'Male' and 'Female' instead of 'MALE' and 'FEMALE'. The code below will make sure all values are ALL CAPS. \n"
   ]
  },
  {
   "cell_type": "code",
   "execution_count": null,
   "id": "9b3140c3",
   "metadata": {
    "id": "ofs1fqq9HQ-2"
   },
   "outputs": [
    {
     "name": "stderr",
     "output_type": "stream",
     "text": [
      "/var/folders/sr/pstbd0754ps98mcp3srh9h940000gn/T/ipykernel_12537/277500035.py:1: SettingWithCopyWarning: \n",
      "A value is trying to be set on a copy of a slice from a DataFrame.\n",
      "Try using .loc[row_indexer,col_indexer] = value instead\n",
      "\n",
      "See the caveats in the documentation: https://pandas.pydata.org/pandas-docs/stable/user_guide/indexing.html#returning-a-view-versus-a-copy\n",
      "  penguins_subset['sex'] = penguins_subset['sex'].str.upper()\n"
     ]
    }
   ],
   "source": [
    "penguins_subset['sex'] = penguins_subset['sex'].str.upper()"
   ]
  },
  {
   "cell_type": "markdown",
   "id": "0f4b5960",
   "metadata": {
    "id": "EO5fqIwUHOmi"
   },
   "source": [
    "K-means needs numeric columns for clustering. Convert the categorical column `'sex'` into numeric. There is no need to convert the `'species'` column because it isn't being used as a feature in the clustering algorithm. "
   ]
  },
  {
   "cell_type": "code",
   "execution_count": 13,
   "id": "d832fad7",
   "metadata": {
    "id": "U833roOu1Qf9"
   },
   "outputs": [],
   "source": [
    "# Convert `sex` column from categorical to numeric.\n",
    "\n",
    "penguins_subset = pd.get_dummies(penguins_subset, drop_first = True, columns=['sex'])"
   ]
  },
  {
   "cell_type": "markdown",
   "id": "f92da314",
   "metadata": {
    "id": "725cc2b0"
   },
   "source": [
    "### Drop a column\n",
    "\n",
    "Drop the categorical column `island` from the dataset. While it has value, this notebook is trying to confirm if penguins of the same species exhibit different physical characteristics based on sex. This doesn't include location.\n",
    "\n",
    "Note that the `'species'` column is not numeric. Don't drop the `'species'` column for now. It could potentially be used to help understand the clusters later. "
   ]
  },
  {
   "cell_type": "code",
   "execution_count": 14,
   "id": "c2c324bf",
   "metadata": {
    "id": "841986cc"
   },
   "outputs": [],
   "source": [
    "# Drop the island column.\n",
    "\n",
    "penguins_subset = penguins_subset.drop(columns = 'island')  "
   ]
  },
  {
   "cell_type": "markdown",
   "id": "013a9c07",
   "metadata": {
    "id": "Gqs356GLi-OX"
   },
   "source": [
    "### Scale the features\n",
    "\n",
    "Because K-means uses distance between observations as its measure of similarity, it's important to scale the data before modeling. Use a third-party tool, such as scikit-learn's `StandardScaler` function. `StandardScaler` scales each point xᵢ by subtracting the mean observed value for that feature and dividing by the standard deviation:\n",
    "\n",
    "x-scaled = (xᵢ – mean(X)) / σ\n",
    "\n",
    "This ensures that all variables have a mean of 0 and variance/standard deviation of 1. \n",
    "\n",
    "**Note:** Because the species column isn't a feature, it doesn't need to be scaled. \n",
    "\n",
    "First, copy all the features except the `'species'` column to a DataFrame `X`. "
   ]
  },
  {
   "cell_type": "code",
   "execution_count": 15,
   "id": "efa9cbdf",
   "metadata": {
    "id": "37a93839"
   },
   "outputs": [],
   "source": [
    "# Exclude `species` variable from X\n",
    "\n",
    "X = penguins_subset.drop(columns = 'species')"
   ]
  },
  {
   "cell_type": "markdown",
   "id": "d4854cad",
   "metadata": {
    "id": "da3acdc9"
   },
   "source": [
    "Scale the features in `X` using `StandardScaler`, and assign the scaled data to a new variable `X_scaled`. "
   ]
  },
  {
   "cell_type": "code",
   "execution_count": 16,
   "id": "6df333bd",
   "metadata": {
    "id": "gJRWMdtgkT4g"
   },
   "outputs": [],
   "source": [
    "#Scale the features.\n",
    "#Assign the scaled data to variable `X_scaled`.\n",
    "\n",
    "X_scaled = StandardScaler().fit_transform(X)"
   ]
  },
  {
   "cell_type": "markdown",
   "id": "1314a80b",
   "metadata": {
    "id": "beKyGofii-tO"
   },
   "source": [
    "## **Step 3: Data modeling** "
   ]
  },
  {
   "cell_type": "markdown",
   "id": "ca49c5c2",
   "metadata": {
    "id": "15120a7e"
   },
   "source": [
    "Now, fit K-means and evaluate inertia for different values of k. Because you may not know how many clusters exist in the data, start by fitting K-means and examining the inertia values for different values of k. To do this, write a function called `kmeans_inertia` that takes in `num_clusters` and `x_vals` (`X_scaled`) and returns a list of each k-value's inertia.\n",
    "\n",
    "When using K-means inside the function, set the `random_state` to `42`. This way, others can reproduce your results."
   ]
  },
  {
   "cell_type": "code",
   "execution_count": 20,
   "id": "94a89c99",
   "metadata": {
    "id": "hCq5xkM0hw7n"
   },
   "outputs": [],
   "source": [
    "# Fit K-means and evaluate inertia for different values of k.\n",
    "\n",
    "num_clusters = [i for i in range(2, 11)]\n",
    "\n",
    "def kmeans_inertia(num_clusters, x_vals):\n",
    "    \"\"\"\n",
    "    Accepts as arguments list of ints and data array. \n",
    "    Fits a KMeans model where k = each value in the list of ints. \n",
    "    Returns each k-value's inertia appended to a list.\n",
    "    \"\"\"\n",
    "    inertia = []\n",
    "    for num in num_clusters:\n",
    "        kms = KMeans(n_clusters=num, random_state=42)\n",
    "        kms.fit(x_vals)\n",
    "        inertia.append(kms.inertia_)\n",
    "\n",
    "    return inertia"
   ]
  },
  {
   "cell_type": "markdown",
   "id": "1f112fc5",
   "metadata": {
    "id": "21c96ecc"
   },
   "source": [
    "Use the `kmeans_inertia` function to return a list of inertia for k=2 to 10."
   ]
  },
  {
   "cell_type": "code",
   "execution_count": 22,
   "id": "704fe7c3",
   "metadata": {
    "id": "p7dWwBQih0dd"
   },
   "outputs": [
    {
     "data": {
      "text/plain": [
       "[885.622414365225,\n",
       " 578.8284278107235,\n",
       " 477.22956735281934,\n",
       " 284.5464837898288,\n",
       " 218.0515629783023,\n",
       " 201.51585567445818,\n",
       " 196.58908645819542,\n",
       " 180.65751845628574,\n",
       " 170.15703589755495]"
      ]
     },
     "execution_count": 22,
     "metadata": {},
     "output_type": "execute_result"
    }
   ],
   "source": [
    "# Return a list of inertia for k=2 to 10.\n",
    "\n",
    "inertia = kmeans_inertia(num_clusters, X_scaled)\n",
    "inertia\n"
   ]
  },
  {
   "cell_type": "markdown",
   "id": "847cd61a",
   "metadata": {
    "id": "fa331d9a"
   },
   "source": [
    "Next, create a line plot that shows the relationship between `num_clusters` and `inertia`.\n",
    "Use either seaborn or matplotlib to visualize this relationship. "
   ]
  },
  {
   "cell_type": "code",
   "execution_count": 23,
   "id": "5fd1d203",
   "metadata": {
    "id": "46yOZCg4h9a4"
   },
   "outputs": [
    {
     "data": {
      "image/png": "[encoded data removed]",
      "text/plain": [
       "<Figure size 640x480 with 1 Axes>"
      ]
     },
     "metadata": {},
     "output_type": "display_data"
    }
   ],
   "source": [
    "# Create a line plot.\n",
    "\n",
    "plot = sns.lineplot(x=num_clusters, y=inertia)\n",
    "plot.set_xlabel(\"Number of clusters\");\n",
    "plot.set_ylabel(\"Inertia\");"
   ]
  },
  {
   "cell_type": "markdown",
   "id": "a325b248",
   "metadata": {
    "id": "g-nPzhMPi_oQ"
   },
   "source": [
    "**Question:** Where is the elbow in the plot?"
   ]
  },
  {
   "cell_type": "markdown",
   "id": "2b0f36a4",
   "metadata": {
    "id": "RPLSlsyKdtDL"
   },
   "source": [
    "The plot seems to depict an elbow at six clusters, but there isn't a clear method for confirming that a six-cluster model is optimal. Therefore, the silhouette scores should be checked."
   ]
  },
  {
   "cell_type": "markdown",
   "id": "d5c8e55e",
   "metadata": {
    "id": "fc33c6a3-8610-4b70-b0e9-9b99c345c0ac"
   },
   "source": [
    "## **Step 4: Results and evaluation** "
   ]
  },
  {
   "cell_type": "markdown",
   "id": "b092eb8c",
   "metadata": {
    "id": "L0Jmyi8Hi__T"
   },
   "source": [
    "Now, evaluate the silhouette score using the `silhouette_score()` function. Silhouette scores are used to study the distance between clusters. "
   ]
  },
  {
   "cell_type": "markdown",
   "id": "207f4a8f",
   "metadata": {
    "id": "64e51814"
   },
   "source": [
    "Then, compare the silhouette score of each value of k, from 2 through 10. To do this, write a function called `kmeans_sil` that takes in `num_clusters` and `x_vals` (`X_scaled`) and returns a list of each k-value's silhouette score."
   ]
  },
  {
   "cell_type": "code",
   "execution_count": 28,
   "id": "34fcecf6",
   "metadata": {
    "id": "nV9ul68GpUhK"
   },
   "outputs": [
    {
     "data": {
      "text/plain": [
       "[np.float64(0.44398088353055243),\n",
       " np.float64(0.45101024097188364),\n",
       " np.float64(0.4489699212061027),\n",
       " np.float64(0.519998574860868),\n",
       " np.float64(0.5223086008347773),\n",
       " np.float64(0.47386350642293157),\n",
       " np.float64(0.4715443426463867),\n",
       " np.float64(0.4160561489496056),\n",
       " np.float64(0.418306343369105)]"
      ]
     },
     "execution_count": 28,
     "metadata": {},
     "output_type": "execute_result"
    }
   ],
   "source": [
    "# Evaluate silhouette score.\n",
    "# Write a function to return a list of each k-value's score.\n",
    "\n",
    "def kmeans_silhouette(num_clusters, x_vals):\n",
    "    \"\"\"\n",
    "    Accepts as arguments list of ints and data array. \n",
    "    Fits a KMeans model where k = each value in the list of ints. \n",
    "    Returns each k-value's silhouette score appended to a list.\n",
    "    \"\"\"\n",
    "    silhouette = []\n",
    "    for num in num_clusters:\n",
    "        kms = KMeans(n_clusters=num, random_state=42)\n",
    "        kms.fit(x_vals)\n",
    "        silhouette.append(silhouette_score(x_vals, kms.labels_))\n",
    "\n",
    "    return silhouette\n",
    "\n",
    "# Return a list of silhouette scores for k=2 to 10.\n",
    "silhouette= kmeans_silhouette(num_clusters, X_scaled)\n",
    "silhouette"
   ]
  },
  {
   "cell_type": "markdown",
   "id": "b2d2035c",
   "metadata": {
    "id": "e3d3c989"
   },
   "source": [
    "Next, create a line plot that shows the relationship between `num_clusters` and `sil_score`.\n",
    "Use either seaborn or matplotlib to visualize this relationship. "
   ]
  },
  {
   "cell_type": "code",
   "execution_count": 29,
   "id": "3a564581",
   "metadata": {
    "id": "IyhBJ8qXpbxz"
   },
   "outputs": [
    {
     "data": {
      "image/png": "[encoded data removed]",
      "text/plain": [
       "<Figure size 640x480 with 1 Axes>"
      ]
     },
     "metadata": {},
     "output_type": "display_data"
    }
   ],
   "source": [
    "# Create a line plot.\n",
    "\n",
    "plot = sns.lineplot(x=num_clusters, y=silhouette)\n",
    "plot.set_xlabel(\"# of clusters\");\n",
    "plot.set_ylabel(\"Silhouette Score\");"
   ]
  },
  {
   "cell_type": "markdown",
   "id": "ccc0a6fe",
   "metadata": {
    "id": "5262b500"
   },
   "source": [
    "**Question:** What does the graph show?"
   ]
  },
  {
   "cell_type": "markdown",
   "id": "a23fc88f",
   "metadata": {
    "id": "k6XQNuWkdp9t"
   },
   "source": [
    "Silhouette scores near 1 indicate that samples are far away from neighboring clusters. Scores close to 0 indicate that samples are on or very close to the decision boundary between two neighboring clusters.\n",
    "The plot indicates that the silhouette score is closest to 1 when the data is partitioned into six clusters, although five clusters also yield a relatively good silhouette score."
   ]
  },
  {
   "cell_type": "markdown",
   "id": "5902f4e5",
   "metadata": {
    "id": "otSauwzpMXnP"
   },
   "source": [
    "### Optimal k-value"
   ]
  },
  {
   "cell_type": "markdown",
   "id": "ce7727cc",
   "metadata": {
    "id": "7vQnmULGE69B"
   },
   "source": [
    "To decide on an optimal k-value, fit a six-cluster model to the dataset. "
   ]
  },
  {
   "cell_type": "code",
   "execution_count": 34,
   "id": "1283b852",
   "metadata": {
    "id": "tZhr41e6MXxo"
   },
   "outputs": [
    {
     "data": {
      "text/html": [
       "<style>#sk-container-id-4 {\n",
       "  /* Definition of color scheme common for light and dark mode */\n",
       "  --sklearn-color-text: #000;\n",
       "  --sklearn-color-text-muted: #666;\n",
       "  --sklearn-color-line: gray;\n",
       "  /* Definition of color scheme for unfitted estimators */\n",
       "  --sklearn-color-unfitted-level-0: #fff5e6;\n",
       "  --sklearn-color-unfitted-level-1: #f6e4d2;\n",
       "  --sklearn-color-unfitted-level-2: #ffe0b3;\n",
       "  --sklearn-color-unfitted-level-3: chocolate;\n",
       "  /* Definition of color scheme for fitted estimators */\n",
       "  --sklearn-color-fitted-level-0: #f0f8ff;\n",
       "  --sklearn-color-fitted-level-1: #d4ebff;\n",
       "  --sklearn-color-fitted-level-2: #b3dbfd;\n",
       "  --sklearn-color-fitted-level-3: cornflowerblue;\n",
       "\n",
       "  /* Specific color for light theme */\n",
       "  --sklearn-color-text-on-default-background: var(--sg-text-color, var(--theme-code-foreground, var(--jp-content-font-color1, black)));\n",
       "  --sklearn-color-background: var(--sg-background-color, var(--theme-background, var(--jp-layout-color0, white)));\n",
       "  --sklearn-color-border-box: var(--sg-text-color, var(--theme-code-foreground, var(--jp-content-font-color1, black)));\n",
       "  --sklearn-color-icon: #696969;\n",
       "\n",
       "  @media (prefers-color-scheme: dark) {\n",
       "    /* Redefinition of color scheme for dark theme */\n",
       "    --sklearn-color-text-on-default-background: var(--sg-text-color, var(--theme-code-foreground, var(--jp-content-font-color1, white)));\n",
       "    --sklearn-color-background: var(--sg-background-color, var(--theme-background, var(--jp-layout-color0, #111)));\n",
       "    --sklearn-color-border-box: var(--sg-text-color, var(--theme-code-foreground, var(--jp-content-font-color1, white)));\n",
       "    --sklearn-color-icon: #878787;\n",
       "  }\n",
       "}\n",
       "\n",
       "#sk-container-id-4 {\n",
       "  color: var(--sklearn-color-text);\n",
       "}\n",
       "\n",
       "#sk-container-id-4 pre {\n",
       "  padding: 0;\n",
       "}\n",
       "\n",
       "#sk-container-id-4 input.sk-hidden--visually {\n",
       "  border: 0;\n",
       "  clip: rect(1px 1px 1px 1px);\n",
       "  clip: rect(1px, 1px, 1px, 1px);\n",
       "  height: 1px;\n",
       "  margin: -1px;\n",
       "  overflow: hidden;\n",
       "  padding: 0;\n",
       "  position: absolute;\n",
       "  width: 1px;\n",
       "}\n",
       "\n",
       "#sk-container-id-4 div.sk-dashed-wrapped {\n",
       "  border: 1px dashed var(--sklearn-color-line);\n",
       "  margin: 0 0.4em 0.5em 0.4em;\n",
       "  box-sizing: border-box;\n",
       "  padding-bottom: 0.4em;\n",
       "  background-color: var(--sklearn-color-background);\n",
       "}\n",
       "\n",
       "#sk-container-id-4 div.sk-container {\n",
       "  /* jupyter's `normalize.less` sets `[hidden] { display: none; }`\n",
       "     but bootstrap.min.css set `[hidden] { display: none !important; }`\n",
       "     so we also need the `!important` here to be able to override the\n",
       "     default hidden behavior on the sphinx rendered scikit-learn.org.\n",
       "     See: https://github.com/scikit-learn/scikit-learn/issues/21755 */\n",
       "  display: inline-block !important;\n",
       "  position: relative;\n",
       "}\n",
       "\n",
       "#sk-container-id-4 div.sk-text-repr-fallback {\n",
       "  display: none;\n",
       "}\n",
       "\n",
       "div.sk-parallel-item,\n",
       "div.sk-serial,\n",
       "div.sk-item {\n",
       "  /* draw centered vertical line to link estimators */\n",
       "  background-image: linear-gradient(var(--sklearn-color-text-on-default-background), var(--sklearn-color-text-on-default-background));\n",
       "  background-size: 2px 100%;\n",
       "  background-repeat: no-repeat;\n",
       "  background-position: center center;\n",
       "}\n",
       "\n",
       "/* Parallel-specific style estimator block */\n",
       "\n",
       "#sk-container-id-4 div.sk-parallel-item::after {\n",
       "  content: \"\";\n",
       "  width: 100%;\n",
       "  border-bottom: 2px solid var(--sklearn-color-text-on-default-background);\n",
       "  flex-grow: 1;\n",
       "}\n",
       "\n",
       "#sk-container-id-4 div.sk-parallel {\n",
       "  display: flex;\n",
       "  align-items: stretch;\n",
       "  justify-content: center;\n",
       "  background-color: var(--sklearn-color-background);\n",
       "  position: relative;\n",
       "}\n",
       "\n",
       "#sk-container-id-4 div.sk-parallel-item {\n",
       "  display: flex;\n",
       "  flex-direction: column;\n",
       "}\n",
       "\n",
       "#sk-container-id-4 div.sk-parallel-item:first-child::after {\n",
       "  align-self: flex-end;\n",
       "  width: 50%;\n",
       "}\n",
       "\n",
       "#sk-container-id-4 div.sk-parallel-item:last-child::after {\n",
       "  align-self: flex-start;\n",
       "  width: 50%;\n",
       "}\n",
       "\n",
       "#sk-container-id-4 div.sk-parallel-item:only-child::after {\n",
       "  width: 0;\n",
       "}\n",
       "\n",
       "/* Serial-specific style estimator block */\n",
       "\n",
       "#sk-container-id-4 div.sk-serial {\n",
       "  display: flex;\n",
       "  flex-direction: column;\n",
       "  align-items: center;\n",
       "  background-color: var(--sklearn-color-background);\n",
       "  padding-right: 1em;\n",
       "  padding-left: 1em;\n",
       "}\n",
       "\n",
       "\n",
       "/* Toggleable style: style used for estimator/Pipeline/ColumnTransformer box that is\n",
       "clickable and can be expanded/collapsed.\n",
       "- Pipeline and ColumnTransformer use this feature and define the default style\n",
       "- Estimators will overwrite some part of the style using the `sk-estimator` class\n",
       "*/\n",
       "\n",
       "/* Pipeline and ColumnTransformer style (default) */\n",
       "\n",
       "#sk-container-id-4 div.sk-toggleable {\n",
       "  /* Default theme specific background. It is overwritten whether we have a\n",
       "  specific estimator or a Pipeline/ColumnTransformer */\n",
       "  background-color: var(--sklearn-color-background);\n",
       "}\n",
       "\n",
       "/* Toggleable label */\n",
       "#sk-container-id-4 label.sk-toggleable__label {\n",
       "  cursor: pointer;\n",
       "  display: flex;\n",
       "  width: 100%;\n",
       "  margin-bottom: 0;\n",
       "  padding: 0.5em;\n",
       "  box-sizing: border-box;\n",
       "  text-align: center;\n",
       "  align-items: start;\n",
       "  justify-content: space-between;\n",
       "  gap: 0.5em;\n",
       "}\n",
       "\n",
       "#sk-container-id-4 label.sk-toggleable__label .caption {\n",
       "  font-size: 0.6rem;\n",
       "  font-weight: lighter;\n",
       "  color: var(--sklearn-color-text-muted);\n",
       "}\n",
       "\n",
       "#sk-container-id-4 label.sk-toggleable__label-arrow:before {\n",
       "  /* Arrow on the left of the label */\n",
       "  content: \"▸\";\n",
       "  float: left;\n",
       "  margin-right: 0.25em;\n",
       "  color: var(--sklearn-color-icon);\n",
       "}\n",
       "\n",
       "#sk-container-id-4 label.sk-toggleable__label-arrow:hover:before {\n",
       "  color: var(--sklearn-color-text);\n",
       "}\n",
       "\n",
       "/* Toggleable content - dropdown */\n",
       "\n",
       "#sk-container-id-4 div.sk-toggleable__content {\n",
       "  max-height: 0;\n",
       "  max-width: 0;\n",
       "  overflow: hidden;\n",
       "  text-align: left;\n",
       "  /* unfitted */\n",
       "  background-color: var(--sklearn-color-unfitted-level-0);\n",
       "}\n",
       "\n",
       "#sk-container-id-4 div.sk-toggleable__content.fitted {\n",
       "  /* fitted */\n",
       "  background-color: var(--sklearn-color-fitted-level-0);\n",
       "}\n",
       "\n",
       "#sk-container-id-4 div.sk-toggleable__content pre {\n",
       "  margin: 0.2em;\n",
       "  border-radius: 0.25em;\n",
       "  color: var(--sklearn-color-text);\n",
       "  /* unfitted */\n",
       "  background-color: var(--sklearn-color-unfitted-level-0);\n",
       "}\n",
       "\n",
       "#sk-container-id-4 div.sk-toggleable__content.fitted pre {\n",
       "  /* unfitted */\n",
       "  background-color: var(--sklearn-color-fitted-level-0);\n",
       "}\n",
       "\n",
       "#sk-container-id-4 input.sk-toggleable__control:checked~div.sk-toggleable__content {\n",
       "  /* Expand drop-down */\n",
       "  max-height: 200px;\n",
       "  max-width: 100%;\n",
       "  overflow: auto;\n",
       "}\n",
       "\n",
       "#sk-container-id-4 input.sk-toggleable__control:checked~label.sk-toggleable__label-arrow:before {\n",
       "  content: \"▾\";\n",
       "}\n",
       "\n",
       "/* Pipeline/ColumnTransformer-specific style */\n",
       "\n",
       "#sk-container-id-4 div.sk-label input.sk-toggleable__control:checked~label.sk-toggleable__label {\n",
       "  color: var(--sklearn-color-text);\n",
       "  background-color: var(--sklearn-color-unfitted-level-2);\n",
       "}\n",
       "\n",
       "#sk-container-id-4 div.sk-label.fitted input.sk-toggleable__control:checked~label.sk-toggleable__label {\n",
       "  background-color: var(--sklearn-color-fitted-level-2);\n",
       "}\n",
       "\n",
       "/* Estimator-specific style */\n",
       "\n",
       "/* Colorize estimator box */\n",
       "#sk-container-id-4 div.sk-estimator input.sk-toggleable__control:checked~label.sk-toggleable__label {\n",
       "  /* unfitted */\n",
       "  background-color: var(--sklearn-color-unfitted-level-2);\n",
       "}\n",
       "\n",
       "#sk-container-id-4 div.sk-estimator.fitted input.sk-toggleable__control:checked~label.sk-toggleable__label {\n",
       "  /* fitted */\n",
       "  background-color: var(--sklearn-color-fitted-level-2);\n",
       "}\n",
       "\n",
       "#sk-container-id-4 div.sk-label label.sk-toggleable__label,\n",
       "#sk-container-id-4 div.sk-label label {\n",
       "  /* The background is the default theme color */\n",
       "  color: var(--sklearn-color-text-on-default-background);\n",
       "}\n",
       "\n",
       "/* On hover, darken the color of the background */\n",
       "#sk-container-id-4 div.sk-label:hover label.sk-toggleable__label {\n",
       "  color: var(--sklearn-color-text);\n",
       "  background-color: var(--sklearn-color-unfitted-level-2);\n",
       "}\n",
       "\n",
       "/* Label box, darken color on hover, fitted */\n",
       "#sk-container-id-4 div.sk-label.fitted:hover label.sk-toggleable__label.fitted {\n",
       "  color: var(--sklearn-color-text);\n",
       "  background-color: var(--sklearn-color-fitted-level-2);\n",
       "}\n",
       "\n",
       "/* Estimator label */\n",
       "\n",
       "#sk-container-id-4 div.sk-label label {\n",
       "  font-family: monospace;\n",
       "  font-weight: bold;\n",
       "  display: inline-block;\n",
       "  line-height: 1.2em;\n",
       "}\n",
       "\n",
       "#sk-container-id-4 div.sk-label-container {\n",
       "  text-align: center;\n",
       "}\n",
       "\n",
       "/* Estimator-specific */\n",
       "#sk-container-id-4 div.sk-estimator {\n",
       "  font-family: monospace;\n",
       "  border: 1px dotted var(--sklearn-color-border-box);\n",
       "  border-radius: 0.25em;\n",
       "  box-sizing: border-box;\n",
       "  margin-bottom: 0.5em;\n",
       "  /* unfitted */\n",
       "  background-color: var(--sklearn-color-unfitted-level-0);\n",
       "}\n",
       "\n",
       "#sk-container-id-4 div.sk-estimator.fitted {\n",
       "  /* fitted */\n",
       "  background-color: var(--sklearn-color-fitted-level-0);\n",
       "}\n",
       "\n",
       "/* on hover */\n",
       "#sk-container-id-4 div.sk-estimator:hover {\n",
       "  /* unfitted */\n",
       "  background-color: var(--sklearn-color-unfitted-level-2);\n",
       "}\n",
       "\n",
       "#sk-container-id-4 div.sk-estimator.fitted:hover {\n",
       "  /* fitted */\n",
       "  background-color: var(--sklearn-color-fitted-level-2);\n",
       "}\n",
       "\n",
       "/* Specification for estimator info (e.g. \"i\" and \"?\") */\n",
       "\n",
       "/* Common style for \"i\" and \"?\" */\n",
       "\n",
       ".sk-estimator-doc-link,\n",
       "a:link.sk-estimator-doc-link,\n",
       "a:visited.sk-estimator-doc-link {\n",
       "  float: right;\n",
       "  font-size: smaller;\n",
       "  line-height: 1em;\n",
       "  font-family: monospace;\n",
       "  background-color: var(--sklearn-color-background);\n",
       "  border-radius: 1em;\n",
       "  height: 1em;\n",
       "  width: 1em;\n",
       "  text-decoration: none !important;\n",
       "  margin-left: 0.5em;\n",
       "  text-align: center;\n",
       "  /* unfitted */\n",
       "  border: var(--sklearn-color-unfitted-level-1) 1pt solid;\n",
       "  color: var(--sklearn-color-unfitted-level-1);\n",
       "}\n",
       "\n",
       ".sk-estimator-doc-link.fitted,\n",
       "a:link.sk-estimator-doc-link.fitted,\n",
       "a:visited.sk-estimator-doc-link.fitted {\n",
       "  /* fitted */\n",
       "  border: var(--sklearn-color-fitted-level-1) 1pt solid;\n",
       "  color: var(--sklearn-color-fitted-level-1);\n",
       "}\n",
       "\n",
       "/* On hover */\n",
       "div.sk-estimator:hover .sk-estimator-doc-link:hover,\n",
       ".sk-estimator-doc-link:hover,\n",
       "div.sk-label-container:hover .sk-estimator-doc-link:hover,\n",
       ".sk-estimator-doc-link:hover {\n",
       "  /* unfitted */\n",
       "  background-color: var(--sklearn-color-unfitted-level-3);\n",
       "  color: var(--sklearn-color-background);\n",
       "  text-decoration: none;\n",
       "}\n",
       "\n",
       "div.sk-estimator.fitted:hover .sk-estimator-doc-link.fitted:hover,\n",
       ".sk-estimator-doc-link.fitted:hover,\n",
       "div.sk-label-container:hover .sk-estimator-doc-link.fitted:hover,\n",
       ".sk-estimator-doc-link.fitted:hover {\n",
       "  /* fitted */\n",
       "  background-color: var(--sklearn-color-fitted-level-3);\n",
       "  color: var(--sklearn-color-background);\n",
       "  text-decoration: none;\n",
       "}\n",
       "\n",
       "/* Span, style for the box shown on hovering the info icon */\n",
       ".sk-estimator-doc-link span {\n",
       "  display: none;\n",
       "  z-index: 9999;\n",
       "  position: relative;\n",
       "  font-weight: normal;\n",
       "  right: .2ex;\n",
       "  padding: .5ex;\n",
       "  margin: .5ex;\n",
       "  width: min-content;\n",
       "  min-width: 20ex;\n",
       "  max-width: 50ex;\n",
       "  color: var(--sklearn-color-text);\n",
       "  box-shadow: 2pt 2pt 4pt #999;\n",
       "  /* unfitted */\n",
       "  background: var(--sklearn-color-unfitted-level-0);\n",
       "  border: .5pt solid var(--sklearn-color-unfitted-level-3);\n",
       "}\n",
       "\n",
       ".sk-estimator-doc-link.fitted span {\n",
       "  /* fitted */\n",
       "  background: var(--sklearn-color-fitted-level-0);\n",
       "  border: var(--sklearn-color-fitted-level-3);\n",
       "}\n",
       "\n",
       ".sk-estimator-doc-link:hover span {\n",
       "  display: block;\n",
       "}\n",
       "\n",
       "/* \"?\"-specific style due to the `<a>` HTML tag */\n",
       "\n",
       "#sk-container-id-4 a.estimator_doc_link {\n",
       "  float: right;\n",
       "  font-size: 1rem;\n",
       "  line-height: 1em;\n",
       "  font-family: monospace;\n",
       "  background-color: var(--sklearn-color-background);\n",
       "  border-radius: 1rem;\n",
       "  height: 1rem;\n",
       "  width: 1rem;\n",
       "  text-decoration: none;\n",
       "  /* unfitted */\n",
       "  color: var(--sklearn-color-unfitted-level-1);\n",
       "  border: var(--sklearn-color-unfitted-level-1) 1pt solid;\n",
       "}\n",
       "\n",
       "#sk-container-id-4 a.estimator_doc_link.fitted {\n",
       "  /* fitted */\n",
       "  border: var(--sklearn-color-fitted-level-1) 1pt solid;\n",
       "  color: var(--sklearn-color-fitted-level-1);\n",
       "}\n",
       "\n",
       "/* On hover */\n",
       "#sk-container-id-4 a.estimator_doc_link:hover {\n",
       "  /* unfitted */\n",
       "  background-color: var(--sklearn-color-unfitted-level-3);\n",
       "  color: var(--sklearn-color-background);\n",
       "  text-decoration: none;\n",
       "}\n",
       "\n",
       "#sk-container-id-4 a.estimator_doc_link.fitted:hover {\n",
       "  /* fitted */\n",
       "  background-color: var(--sklearn-color-fitted-level-3);\n",
       "}\n",
       "</style><div id=\"sk-container-id-4\" class=\"sk-top-container\"><div class=\"sk-text-repr-fallback\"><pre>KMeans(n_clusters=6, random_state=42)</pre><b>In a Jupyter environment, please rerun this cell to show the HTML representation or trust the notebook. <br />On GitHub, the HTML representation is unable to render, please try loading this page with nbviewer.org.</b></div><div class=\"sk-container\" hidden><div class=\"sk-item\"><div class=\"sk-estimator fitted sk-toggleable\"><input class=\"sk-toggleable__control sk-hidden--visually\" id=\"sk-estimator-id-4\" type=\"checkbox\" checked><label for=\"sk-estimator-id-4\" class=\"sk-toggleable__label fitted sk-toggleable__label-arrow\"><div><div>KMeans</div></div><div><a class=\"sk-estimator-doc-link fitted\" rel=\"noreferrer\" target=\"_blank\" href=\"https://scikit-learn.org/1.6/modules/generated/sklearn.cluster.KMeans.html\">?<span>Documentation for KMeans</span></a><span class=\"sk-estimator-doc-link fitted\">i<span>Fitted</span></span></div></label><div class=\"sk-toggleable__content fitted\"><pre>KMeans(n_clusters=6, random_state=42)</pre></div> </div></div></div></div>"
      ],
      "text/plain": [
       "KMeans(n_clusters=6, random_state=42)"
      ]
     },
     "execution_count": 34,
     "metadata": {},
     "output_type": "execute_result"
    }
   ],
   "source": [
    "# Fit a 6-cluster model.\n",
    "\n",
    "kmeans6 = KMeans(n_clusters=6, random_state=42)\n",
    "kmeans6.fit(X_scaled)"
   ]
  },
  {
   "cell_type": "markdown",
   "id": "574cbba2",
   "metadata": {
    "id": "49f834ec"
   },
   "source": [
    "Print out the unique labels of the fit model."
   ]
  },
  {
   "cell_type": "code",
   "execution_count": 35,
   "id": "669185c1",
   "metadata": {
    "id": "mLB6AyhWMX54"
   },
   "outputs": [
    {
     "name": "stdout",
     "output_type": "stream",
     "text": [
      "[5 2 2 2 5 2]\n",
      "Unique labels: [0 1 2 3 4 5]\n"
     ]
    }
   ],
   "source": [
    "# Print unique labels.\n",
    "\n",
    "print(kmeans6.labels_[:6])\n",
    "print('Unique labels:', np.unique(kmeans6.labels_))"
   ]
  },
  {
   "cell_type": "markdown",
   "id": "2131a595",
   "metadata": {
    "id": "080d87e3"
   },
   "source": [
    "Now, create a new column `cluster` that indicates cluster assignment in the DataFrame `penguins_subset`. It's important to understand the meaning of each cluster's labels, then decide whether the clustering makes sense. \n",
    "\n",
    "**Note:** This task is done using `penguins_subset` because it is often easier to interpret unscaled data."
   ]
  },
  {
   "cell_type": "code",
   "execution_count": 38,
   "id": "6445af3f",
   "metadata": {
    "id": "oxS6EJvZM1Ab"
   },
   "outputs": [
    {
     "data": {
      "text/html": [
       "<div>\n",
       "<style scoped>\n",
       "    .dataframe tbody tr th:only-of-type {\n",
       "        vertical-align: middle;\n",
       "    }\n",
       "\n",
       "    .dataframe tbody tr th {\n",
       "        vertical-align: top;\n",
       "    }\n",
       "\n",
       "    .dataframe thead th {\n",
       "        text-align: right;\n",
       "    }\n",
       "</style>\n",
       "<table border=\"1\" class=\"dataframe\">\n",
       "  <thead>\n",
       "    <tr style=\"text-align: right;\">\n",
       "      <th></th>\n",
       "      <th>species</th>\n",
       "      <th>bill_length_mm</th>\n",
       "      <th>bill_depth_mm</th>\n",
       "      <th>flipper_length_mm</th>\n",
       "      <th>body_mass_g</th>\n",
       "      <th>sex_MALE</th>\n",
       "      <th>cluster</th>\n",
       "    </tr>\n",
       "  </thead>\n",
       "  <tbody>\n",
       "    <tr>\n",
       "      <th>0</th>\n",
       "      <td>Adelie</td>\n",
       "      <td>39.1</td>\n",
       "      <td>18.7</td>\n",
       "      <td>181.0</td>\n",
       "      <td>3750.0</td>\n",
       "      <td>True</td>\n",
       "      <td>5</td>\n",
       "    </tr>\n",
       "    <tr>\n",
       "      <th>1</th>\n",
       "      <td>Adelie</td>\n",
       "      <td>39.5</td>\n",
       "      <td>17.4</td>\n",
       "      <td>186.0</td>\n",
       "      <td>3800.0</td>\n",
       "      <td>False</td>\n",
       "      <td>2</td>\n",
       "    </tr>\n",
       "    <tr>\n",
       "      <th>2</th>\n",
       "      <td>Adelie</td>\n",
       "      <td>40.3</td>\n",
       "      <td>18.0</td>\n",
       "      <td>195.0</td>\n",
       "      <td>3250.0</td>\n",
       "      <td>False</td>\n",
       "      <td>2</td>\n",
       "    </tr>\n",
       "    <tr>\n",
       "      <th>4</th>\n",
       "      <td>Adelie</td>\n",
       "      <td>36.7</td>\n",
       "      <td>19.3</td>\n",
       "      <td>193.0</td>\n",
       "      <td>3450.0</td>\n",
       "      <td>False</td>\n",
       "      <td>2</td>\n",
       "    </tr>\n",
       "    <tr>\n",
       "      <th>5</th>\n",
       "      <td>Adelie</td>\n",
       "      <td>39.3</td>\n",
       "      <td>20.6</td>\n",
       "      <td>190.0</td>\n",
       "      <td>3650.0</td>\n",
       "      <td>True</td>\n",
       "      <td>5</td>\n",
       "    </tr>\n",
       "  </tbody>\n",
       "</table>\n",
       "</div>"
      ],
      "text/plain": [
       "  species  bill_length_mm  bill_depth_mm  flipper_length_mm  body_mass_g  \\\n",
       "0  Adelie            39.1           18.7              181.0       3750.0   \n",
       "1  Adelie            39.5           17.4              186.0       3800.0   \n",
       "2  Adelie            40.3           18.0              195.0       3250.0   \n",
       "4  Adelie            36.7           19.3              193.0       3450.0   \n",
       "5  Adelie            39.3           20.6              190.0       3650.0   \n",
       "\n",
       "   sex_MALE  cluster  \n",
       "0      True        5  \n",
       "1     False        2  \n",
       "2     False        2  \n",
       "4     False        2  \n",
       "5      True        5  "
      ]
     },
     "execution_count": 38,
     "metadata": {},
     "output_type": "execute_result"
    }
   ],
   "source": [
    "# Create a new column `cluster`.\n",
    "\n",
    "penguins_subset['cluster'] = kmeans6.labels_\n",
    "penguins_subset.head()"
   ]
  },
  {
   "cell_type": "markdown",
   "id": "ab4486e7",
   "metadata": {
    "id": "0c3fe6a3"
   },
   "source": [
    "Use `groupby` to verify if any `'cluster'` can be differentiated by `'species'`."
   ]
  },
  {
   "cell_type": "code",
   "execution_count": 41,
   "id": "5976642a",
   "metadata": {
    "id": "051b144d"
   },
   "outputs": [
    {
     "data": {
      "text/plain": [
       "cluster  species  \n",
       "0        Chinstrap    32\n",
       "1        Gentoo       58\n",
       "2        Adelie       73\n",
       "         Chinstrap     2\n",
       "3        Adelie        2\n",
       "         Chinstrap    34\n",
       "4        Gentoo       61\n",
       "5        Adelie       71\n",
       "dtype: int64"
      ]
     },
     "execution_count": 41,
     "metadata": {},
     "output_type": "execute_result"
    }
   ],
   "source": [
    "# Verify if any `cluster` can be differentiated by `species`.\n",
    "\n",
    "penguins_subset.groupby(by=['cluster', 'species']).size()"
   ]
  },
  {
   "cell_type": "markdown",
   "id": "d00fc394",
   "metadata": {
    "id": "QACZiuWYM59u"
   },
   "source": [
    "Next, interpret the groupby outputs. Although the results of the groupby show that each `'cluster'` can be differentiated by `'species'`, it is useful to visualize these results. The graph shows that each `'cluster'` can be differentiated by `'species'`. \n",
    "\n",
    "**Note:** The code for the graph below is outside the scope of this lab. "
   ]
  },
  {
   "cell_type": "code",
   "execution_count": 42,
   "id": "2c798312",
   "metadata": {
    "colab": {
     "base_uri": "https://localhost:8080/",
     "height": 408
    },
    "executionInfo": {
     "elapsed": 500,
     "status": "ok",
     "timestamp": 1659750070101,
     "user": {
      "displayName": "Gracen Hanley",
      "userId": "14517815644308397440"
     },
     "user_tz": 420
    },
    "id": "ScRX4uWfNqo6",
    "outputId": "ea55e742-e819-49b4-da79-ddb9adf0a398"
   },
   "outputs": [
    {
     "data": {
      "image/png": "[encoded data removed]",
      "text/plain": [
       "<Figure size 600x500 with 1 Axes>"
      ]
     },
     "metadata": {},
     "output_type": "display_data"
    }
   ],
   "source": [
    "penguins_subset.groupby(by=['cluster', 'species']).size().plot.bar(title='Clusters differentiated by species',\n",
    "                                                                   figsize=(6, 5),\n",
    "                                                                   ylabel='Size',\n",
    "                                                                   xlabel='(Cluster, Species)');"
   ]
  },
  {
   "cell_type": "markdown",
   "id": "5ea55a3b",
   "metadata": {
    "id": "f1b82368"
   },
   "source": [
    "Use `groupby` to verify if each `'cluster'` can be differentiated by `'species'` AND `'sex_MALE'`."
   ]
  },
  {
   "cell_type": "code",
   "execution_count": 43,
   "id": "06ba9454",
   "metadata": {
    "id": "2cf5adc2"
   },
   "outputs": [
    {
     "data": {
      "text/plain": [
       "cluster  species    sex_MALE\n",
       "0        Chinstrap  False       32\n",
       "1        Gentoo     False       58\n",
       "2        Adelie     False       73\n",
       "         Chinstrap  False        2\n",
       "3        Adelie     True         2\n",
       "         Chinstrap  True        34\n",
       "4        Gentoo     True        61\n",
       "5        Adelie     True        71\n",
       "dtype: int64"
      ]
     },
     "execution_count": 43,
     "metadata": {},
     "output_type": "execute_result"
    }
   ],
   "source": [
    "# Verify if each `cluster` can be differentiated by `species' AND `sex_MALE`.\n",
    "\n",
    "penguins_subset.groupby(by=['cluster','species', 'sex_MALE']).size()"
   ]
  },
  {
   "cell_type": "markdown",
   "id": "39ed7f43",
   "metadata": {
    "id": "f0ad7c32"
   },
   "source": [
    "<details>\n",
    "  <summary><h4><strong>Hint 1</strong></h4></summary>\n",
    "\n",
    "Use `groupby(by=['cluster','species', 'sex_MALE'])`. \n",
    "</details>\n"
   ]
  },
  {
   "cell_type": "markdown",
   "id": "bdce5c71",
   "metadata": {
    "id": "d667d4ce"
   },
   "source": [
    "<details>\n",
    "  <summary><h4><strong>Hint 2</strong></h4></summary>\n",
    "\n",
    "Use an aggregation function such as `size`.\n",
    "</details>"
   ]
  },
  {
   "cell_type": "markdown",
   "id": "8a507e61",
   "metadata": {
    "id": "ae471434"
   },
   "source": [
    "**Question:** Are the clusters differentiated by `'species'` and `'sex_MALE'`?"
   ]
  },
  {
   "cell_type": "markdown",
   "id": "a5a335f5",
   "metadata": {
    "id": "CRMvvPaKdlRP"
   },
   "source": [
    "[Write your response here. Double-click (or enter) to edit.]"
   ]
  },
  {
   "cell_type": "markdown",
   "id": "a85bc37c",
   "metadata": {
    "id": "c9dSiWNNcdZH"
   },
   "source": [
    "Finally, interpret the groupby outputs and visualize these results. The graph shows that each `'cluster'` can be differentiated by `'species'` and `'sex_MALE'`. Furthermore, each cluster is mostly comprised of one sex and one species. \n",
    "\n",
    "**Note:** The code for the graph below is outside the scope of this lab. "
   ]
  },
  {
   "cell_type": "code",
   "execution_count": 44,
   "id": "7206858b",
   "metadata": {
    "colab": {
     "base_uri": "https://localhost:8080/",
     "height": 383
    },
    "executionInfo": {
     "elapsed": 649,
     "status": "ok",
     "timestamp": 1659750070746,
     "user": {
      "displayName": "Gracen Hanley",
      "userId": "14517815644308397440"
     },
     "user_tz": 420
    },
    "id": "Xw-g03su8_4Z",
    "outputId": "10c8fe4e-8cfd-4963-f535-7d6029e4d4af"
   },
   "outputs": [
    {
     "data": {
      "text/plain": [
       "<matplotlib.legend.Legend at 0x127df7ca0>"
      ]
     },
     "execution_count": 44,
     "metadata": {},
     "output_type": "execute_result"
    },
    {
     "data": {
      "image/png": "[encoded data removed]",
      "text/plain": [
       "<Figure size 600x500 with 1 Axes>"
      ]
     },
     "metadata": {},
     "output_type": "display_data"
    }
   ],
   "source": [
    "penguins_subset.groupby(by=['cluster','species','sex_MALE']).size().unstack(level = 'species', fill_value=0).plot.bar(title='Clusters differentiated by species and sex',\n",
    "                                                                                                                      figsize=(6, 5),\n",
    "                                                                                                                      ylabel='Size',\n",
    "                                                                                                                      xlabel='(Cluster, Sex)')\n",
    "plt.legend(bbox_to_anchor=(1.3, 1.0))"
   ]
  },
  {
   "cell_type": "markdown",
   "id": "f8ab9af5",
   "metadata": {
    "id": "4DRcgiMgM1HP"
   },
   "source": [
    "## **Considerations**\n",
    "\n",
    "\n",
    "**What are some key takeaways that you learned during this lab? Consider the process you used, key tools, and the results of your investigation.**\n",
    "\n",
    "Many machine learning workflows are about cleaning, encoding, and scaling data.\n",
    "\n",
    "Inertia and silhouette score can be used to find the optimal value of clusters.\n",
    "\n",
    "Clusters can find natural groupings in data.\n",
    "\n",
    "The clusters in this lab are mostly differentiated by species and sex as shown by the groupby results and corresponding graphs.\n",
    "\n",
    "The elbow plot and especially the silhouette scores suggests that 6 clusters are optimal for this data.\n",
    "\n",
    "Having 6 clusters makes sense because the study suggests that there is sexual dimorphism (differences between the sexes) for each of the three species (2 sexes * 3 different species = 6 clusters).\n",
    "\n",
    "\n",
    "**What summary would you provide to stakeholders?**\n",
    "\n",
    "The K-means clustering enabled this data to be effectively grouped. It helped identify patterns that can educate team members about penguins.\n",
    "\n",
    "The success of the cluster results suggests that the organization can apply clustering to other projects and continue augmenting employee education.\n"
   ]
  },
  {
   "cell_type": "markdown",
   "id": "a98d0050",
   "metadata": {
    "id": "79d85ff6-30a4-469b-8861-5b9b517c89f5"
   },
   "source": [
    "### References\n",
    "\n",
    "[Gorman, Kristen B., et al. “Ecological Sexual Dimorphism and Environmental Variability within a Community of Antarctic Penguins (Genus Pygoscelis).” PLOS ONE, vol. 9, no. 3, Mar. 2014, p. e90081. PLoS Journals](https://doi.org/10.1371/journal.pone.0090081)\n",
    "\n",
    "[Sklearn Preprocessing StandardScaler scikit-learn](https://scikit-learn.org/stable/modules/generated/sklearn.preprocessing.StandardScaler.html)"
   ]
  }
 ],
 "metadata": {
  "colab": {
   "collapsed_sections": [],
   "provenance": [],
   "toc_visible": true
  },
  "gpuClass": "standard",
  "kernelspec": {
   "display_name": ".venv",
   "language": "python",
   "name": "python3"
  },
  "language_info": {
   "codemirror_mode": {
    "name": "ipython",
    "version": 3
   },
   "file_extension": ".py",
   "mimetype": "text/x-python",
   "name": "python",
   "nbconvert_exporter": "python",
   "pygments_lexer": "ipython3",
   "version": "3.9.6"
  }
 },
 "nbformat": 4,
 "nbformat_minor": 5
}
